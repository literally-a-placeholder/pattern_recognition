{
 "cells": [
  {
   "cell_type": "code",
   "execution_count": 1,
   "metadata": {},
   "outputs": [],
   "source": [
    "# number of neurons in the hidden layer\n",
    "hidden_dim = 100\n",
    "\n",
    "# learning rate\n",
    "learning_rate = 0.005\n",
    "\n",
    "# number of training epochs\n",
    "n_epochs = 10"
   ]
  },
  {
   "cell_type": "code",
   "execution_count": 2,
   "metadata": {},
   "outputs": [
    {
     "name": "stdout",
     "output_type": "stream",
     "text": [
      "['mnist-permutated-png-format/mnist/train/0/0-img-1-lbl0.png', 'mnist-permutated-png-format/mnist/train/0/0-img-10005-lbl0.png', 'mnist-permutated-png-format/mnist/train/0/0-img-10010-lbl0.png', 'mnist-permutated-png-format/mnist/train/0/0-img-10025-lbl0.png', 'mnist-permutated-png-format/mnist/train/0/0-img-10069-lbl0.png']\n"
     ]
    }
   ],
   "source": [
    "import os\n",
    "import numpy as np\n",
    "from PIL import Image\n",
    "import torch\n",
    "from torch.utils.data import Dataset\n",
    "from torch.utils.data import DataLoader\n",
    "from torchvision import transforms\n",
    "import torch.nn as nn\n",
    "import matplotlib.pyplot as plt\n",
    "\n",
    "path = 'mnist-permutated-png-format/mnist'\n",
    "train_paths = []\n",
    "val_paths = []\n",
    "test_paths = []\n",
    "for i in range(10):\n",
    "    trp = os.listdir(path+'/train/'+str(i))\n",
    "    for trpath in trp:\n",
    "        train_paths = train_paths + [path+'/train/'+str(i)+'/'+trpath]\n",
    "    vap = os.listdir(path+'/val/'+str(i))\n",
    "    for vapath in vap:\n",
    "        val_paths = val_paths + [path+'/val/'+str(i)+'/'+vapath]\n",
    "    tep = os.listdir(path+'/test/'+str(i))\n",
    "    for tepath in tep:\n",
    "        test_paths = test_paths + [path+'/test/'+str(i)+'/'+tepath]\n",
    "print(train_paths[0:5])"
   ]
  },
  {
   "cell_type": "code",
   "execution_count": 3,
   "metadata": {},
   "outputs": [
    {
     "name": "stdout",
     "output_type": "stream",
     "text": [
      "(40200, 784) (40200,)\n",
      "(19800, 784) (19800,)\n",
      "(10000, 784) (10000,)\n"
     ]
    }
   ],
   "source": [
    "n = len(train_paths)\n",
    "train_images = np.zeros((n, 28*28), dtype=np.int)\n",
    "train_labels = np.zeros(n, dtype=np.int)\n",
    "for i in range(n):\n",
    "    ip = train_paths[i]\n",
    "    image = Image.open(ip).convert('L')\n",
    "    npimage = np.array(image).reshape(28*28)\n",
    "    train_images[i,:] = npimage\n",
    "    train_labels[i] = ip[-5]\n",
    "    \n",
    "n = len(val_paths)\n",
    "val_images = np.zeros((n, 28*28), dtype=np.int)\n",
    "val_labels = np.zeros(n, dtype=np.int)\n",
    "for i in range(n):\n",
    "    ip = val_paths[i]\n",
    "    image = Image.open(ip).convert('L')\n",
    "    npimage = np.array(image).reshape(28*28)\n",
    "    val_images[i,:] = npimage\n",
    "    val_labels[i] = ip[-5]\n",
    "    \n",
    "n = len(test_paths)\n",
    "test_images = np.zeros((n, 28*28), dtype=np.int)\n",
    "test_labels = np.zeros(n, dtype=np.int)\n",
    "for i in range(n):\n",
    "    ip = test_paths[i]\n",
    "    image = Image.open(ip).convert('L')\n",
    "    npimage = np.array(image).reshape(28*28)\n",
    "    test_images[i,:] = npimage\n",
    "    test_labels[i] = ip[-5]\n",
    "    \n",
    "print(train_images.shape, train_labels.shape)\n",
    "print(val_images.shape, val_labels.shape)\n",
    "print(test_images.shape, test_labels.shape)"
   ]
  },
  {
   "cell_type": "code",
   "execution_count": 4,
   "metadata": {
    "scrolled": true
   },
   "outputs": [
    {
     "data": {
      "text/plain": [
       "<matplotlib.image.AxesImage at 0x121e72168d0>"
      ]
     },
     "execution_count": 4,
     "metadata": {},
     "output_type": "execute_result"
    },
    {
     "data": {
      "image/png": "[encoded data removed]",
      "text/plain": [
       "<Figure size 432x288 with 1 Axes>"
      ]
     },
     "metadata": {
      "needs_background": "light"
     },
     "output_type": "display_data"
    }
   ],
   "source": [
    "plt.imshow(train_images[0].reshape(28,28), cmap='gray')"
   ]
  },
  {
   "cell_type": "code",
   "execution_count": 5,
   "metadata": {},
   "outputs": [
    {
     "name": "stdout",
     "output_type": "stream",
     "text": [
      "0 3937\n",
      "1 4494\n",
      "2 4019\n",
      "3 4183\n",
      "4 3937\n",
      "5 3618\n",
      "6 3920\n",
      "7 4236\n",
      "8 3880\n",
      "9 3976\n"
     ]
    }
   ],
   "source": [
    "for i in range(10):\n",
    "    print(i, sum(train_labels==i))"
   ]
  },
  {
   "cell_type": "code",
   "execution_count": 6,
   "metadata": {},
   "outputs": [],
   "source": [
    "class DigitDataset(Dataset):\n",
    "    def __init__(self, features, labels):\n",
    "        super(DigitDataset, self).__init__()\n",
    "        self.features = features\n",
    "        self.labels = labels\n",
    "        self.transforms = transforms.Compose([transforms.ToTensor()])\n",
    "    \n",
    "    def __len__(self):\n",
    "        return len(self.features)\n",
    "    \n",
    "    def __getitem__(self, index):\n",
    "        image = self.features[index,:]\n",
    "        image = image.reshape(28,28,1)\n",
    "        image = self.transforms(image)\n",
    "        image = image.float()\n",
    "        label = self.labels[index]\n",
    "        label = label.astype(np.int64)\n",
    "        return (image, label)\n",
    "\n",
    "train_dataset = DigitDataset(train_images, train_labels)\n",
    "val_dataset = DigitDataset(val_images, val_labels)\n",
    "test_dataset = DigitDataset(test_images, test_labels)\n",
    "train_loader = DataLoader(train_dataset, batch_size=64, shuffle=True)\n",
    "val_loader = DataLoader(val_dataset, batch_size=64, shuffle=False)\n",
    "test_loader = DataLoader(test_dataset, batch_size=64, shuffle=False)"
   ]
  },
  {
   "cell_type": "code",
   "execution_count": 7,
   "metadata": {},
   "outputs": [],
   "source": [
    "class MLPModel(nn.Module):\n",
    "    def __init__(self):\n",
    "        super(MLPModel, self).__init__()\n",
    "        self.main = nn.Sequential(nn.Linear(28*28, hidden_dim),\n",
    "                                 nn.ReLU(),\n",
    "                                 nn.Linear(hidden_dim, 10))\n",
    "    \n",
    "    def forward(self, x):\n",
    "        out = x.view(x.size(0), -1)\n",
    "        out = self.main(out)\n",
    "        return out"
   ]
  },
  {
   "cell_type": "code",
   "execution_count": 8,
   "metadata": {},
   "outputs": [],
   "source": [
    "model = MLPModel()\n",
    "loss_fn = nn.CrossEntropyLoss()\n",
    "optimizer = torch.optim.SGD(model.parameters(), lr=learning_rate)"
   ]
  },
  {
   "cell_type": "code",
   "execution_count": 9,
   "metadata": {},
   "outputs": [],
   "source": [
    "def train():\n",
    "    model.train()\n",
    "    train_loss = 0\n",
    "    for iteration, (images, labels) in enumerate(train_loader):\n",
    "        output = model(images)\n",
    "        optimizer.zero_grad()\n",
    "        loss = loss_fn(output, labels)\n",
    "        train_loss += loss.item()\n",
    "        loss.backward()\n",
    "        optimizer.step()\n",
    "    average_loss = train_loss / len(train_loader)\n",
    "    return average_loss\n",
    "\n",
    "def validation():\n",
    "    model.eval()\n",
    "    val_loss = 0\n",
    "    n_correct = 0\n",
    "    with torch.no_grad():\n",
    "        for images, labels in val_loader:\n",
    "            output = model(images)\n",
    "            loss = loss_fn(output, labels)\n",
    "            val_loss += loss.item()\n",
    "            n_correct += torch.sum(output.argmax(1) == labels).item()\n",
    "            \n",
    "    accuracy = 100.0 * n_correct / len(val_loader.dataset)\n",
    "    average_loss = val_loss / len(val_loader)\n",
    "    return val_loss, accuracy\n",
    "\n",
    "def test():\n",
    "    model.eval()\n",
    "    test_loss = 0\n",
    "    n_correct = 0\n",
    "    with torch.no_grad():\n",
    "        for images, labels in test_loader:\n",
    "            output = model(images)\n",
    "            loss = loss_fn(output, labels)\n",
    "            test_loss += loss.item()\n",
    "            n_correct += torch.sum(output.argmax(1) == labels).item()\n",
    "            \n",
    "    accuracy = 100.0 * n_correct / len(test_loader.dataset)\n",
    "    average_loss = test_loss / len(test_loader)\n",
    "    return test_loss, accuracy"
   ]
  },
  {
   "cell_type": "code",
   "execution_count": 10,
   "metadata": {},
   "outputs": [
    {
     "name": "stdout",
     "output_type": "stream",
     "text": [
      "Epoch 1, Training loss: 312.7353, Validation loss: 713.9945, Validation accuracy: 10.0%\n",
      "Epoch 2, Training loss: 2.3030, Validation loss: 713.6972, Validation accuracy: 11.4%\n",
      "Epoch 3, Training loss: 2.3021, Validation loss: 713.5551, Validation accuracy: 11.4%\n",
      "Epoch 4, Training loss: 2.3016, Validation loss: 713.4930, Validation accuracy: 11.4%\n",
      "Epoch 5, Training loss: 2.3014, Validation loss: 713.4702, Validation accuracy: 11.4%\n",
      "Epoch 6, Training loss: 2.3012, Validation loss: 713.4628, Validation accuracy: 11.4%\n",
      "Epoch 7, Training loss: 2.3011, Validation loss: 713.4652, Validation accuracy: 11.4%\n",
      "Epoch 8, Training loss: 2.3011, Validation loss: 713.4680, Validation accuracy: 11.4%\n",
      "Epoch 9, Training loss: 2.3011, Validation loss: 713.4739, Validation accuracy: 11.4%\n",
      "Epoch 10, Training loss: 2.3011, Validation loss: 713.4796, Validation accuracy: 11.4%\n"
     ]
    }
   ],
   "source": [
    "train_losses = []\n",
    "val_losses = []\n",
    "val_accuracy = []\n",
    "for epoch in range(n_epochs):\n",
    "    train_loss = train()\n",
    "    train_losses.append(train_loss)\n",
    "    val_loss, accuracy = validation()\n",
    "    val_losses.append(val_loss)\n",
    "    val_accuracy.append(accuracy)\n",
    "    print('Epoch {}, Training loss: {:.4f}, Validation loss: {:.4f}, Validation accuracy: {:.1f}%'.format(epoch+1, train_loss, val_loss, accuracy))"
   ]
  },
  {
   "cell_type": "code",
   "execution_count": 11,
   "metadata": {},
   "outputs": [
    {
     "data": {
      "text/plain": [
       "<matplotlib.legend.Legend at 0x121e72c4ba8>"
      ]
     },
     "execution_count": 11,
     "metadata": {},
     "output_type": "execute_result"
    },
    {
     "data": {
      "image/png": "[encoded data removed]",
      "text/plain": [
       "<Figure size 432x288 with 1 Axes>"
      ]
     },
     "metadata": {
      "needs_background": "light"
     },
     "output_type": "display_data"
    }
   ],
   "source": [
    "plt.figure()\n",
    "plt.xlabel('epoch')\n",
    "plt.ylabel('loss')\n",
    "plt.title('Losses')\n",
    "plt.plot(np.arange(1, n_epochs+1), train_losses)\n",
    "plt.plot(np.arange(1, n_epochs+1), val_losses)\n",
    "plt.legend(['training', 'validation'])"
   ]
  },
  {
   "cell_type": "code",
   "execution_count": null,
   "metadata": {},
   "outputs": [],
   "source": [
    "test_loss, accuracy = test()\n",
    "print('Test loss: {:.4f}, accuracy: {:.1f}%'.format(test_loss, accuracy))"
   ]
  }
 ],
 "metadata": {
  "kernelspec": {
   "display_name": "Python 3",
   "language": "python",
   "name": "python3"
  },
  "language_info": {
   "codemirror_mode": {
    "name": "ipython",
    "version": 3
   },
   "file_extension": ".py",
   "mimetype": "text/x-python",
   "name": "python",
   "nbconvert_exporter": "python",
   "pygments_lexer": "ipython3",
   "version": "3.7.1"
  }
 },
 "nbformat": 4,
 "nbformat_minor": 2
}
