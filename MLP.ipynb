{
 "cells": [
  {
   "cell_type": "code",
   "execution_count": 442,
   "metadata": {},
   "outputs": [],
   "source": [
    "# number of neurons in the hidden layer\n",
    "hidden_dim = 2000\n",
    "\n",
    "# learning rate\n",
    "learning_rate = 0.005\n",
    "\n",
    "# number of training epochs\n",
    "n_epochs = 10\n",
    "\n",
    "# percentage of training data used for validation\n",
    "val_size = 0.1"
   ]
  },
  {
   "cell_type": "code",
   "execution_count": 443,
   "metadata": {},
   "outputs": [
    {
     "name": "stdout",
     "output_type": "stream",
     "text": [
      "(60000, 784) (60000,)\n"
     ]
    }
   ],
   "source": [
    "import numpy as np\n",
    "import csv\n",
    "import torch\n",
    "from torch.utils.data import Dataset\n",
    "from torch.utils.data import DataLoader\n",
    "from torchvision import transforms\n",
    "import torch.nn as nn\n",
    "import matplotlib.pyplot as plt\n",
    "\n",
    "path_train = 'mnist_train.csv'\n",
    "path_test = 'mnist_test.csv'\n",
    "\n",
    "def readCsv(path):\n",
    "    with open(path, 'rt') as csvfile:\n",
    "        reader = csv.reader(csvfile, delimiter=',')\n",
    "        i = 0\n",
    "        for row in reader:\n",
    "            j = len(row)\n",
    "            i = i+1\n",
    "        A = np.zeros((i,j), dtype=np.int_)\n",
    "    \n",
    "    with open(path, 'rt') as csvfile:\n",
    "        reader = csv.reader(csvfile, delimiter=',')\n",
    "        i = 0\n",
    "        for row in reader:\n",
    "            j = 0\n",
    "            for x in row:\n",
    "                A[i,j] = int(x)\n",
    "                j = j+1\n",
    "            i = i+1\n",
    "    return A\n",
    "\n",
    "train_data = readCsv(path_train)\n",
    "test_data = readCsv(path_test)\n",
    "\n",
    "train_images = train_data[:,1:]\n",
    "train_labels = train_data[:,0]\n",
    "test_images = test_data[:,1:]\n",
    "test_labels = test_data[:,0]\n",
    "\n",
    "print(train_images.shape, train_labels.shape)"
   ]
  },
  {
   "cell_type": "code",
   "execution_count": 444,
   "metadata": {},
   "outputs": [],
   "source": [
    "n = len(train_images)\n",
    "x = int(n*(1-val_size))\n",
    "t_images = train_images[:x]\n",
    "t_labels = train_labels[:x]\n",
    "v_images = train_images[x:]\n",
    "v_labels = train_labels[x:]"
   ]
  },
  {
   "cell_type": "code",
   "execution_count": 445,
   "metadata": {},
   "outputs": [],
   "source": [
    "class DigitDataset(Dataset):\n",
    "    def __init__(self, features, labels):\n",
    "        super(DigitDataset, self).__init__()\n",
    "        self.features = features\n",
    "        self.labels = labels\n",
    "        self.transforms = transforms.Compose([transforms.ToTensor()])\n",
    "    \n",
    "    def __len__(self):\n",
    "        return len(self.features)\n",
    "    \n",
    "    def __getitem__(self, index):\n",
    "        image = self.features[index,:]\n",
    "        image = image.reshape(28,28,1)\n",
    "        image = self.transforms(image)\n",
    "        image = image.float()\n",
    "        label = self.labels[index]\n",
    "        label = label.astype(np.int64)\n",
    "        return (image, label)\n",
    "\n",
    "train_dataset = DigitDataset(t_images, t_labels)\n",
    "val_dataset = DigitDataset(v_images, v_labels)\n",
    "test_dataset = DigitDataset(test_images, test_labels)\n",
    "train_loader = DataLoader(train_dataset, batch_size=64, shuffle=True)\n",
    "val_loader = DataLoader(val_dataset, batch_size=64, shuffle=False)\n",
    "test_loader = DataLoader(test_dataset, batch_size=64, shuffle=False)"
   ]
  },
  {
   "cell_type": "code",
   "execution_count": 446,
   "metadata": {},
   "outputs": [],
   "source": [
    "class MLPModel(nn.Module):\n",
    "    def __init__(self):\n",
    "        super(MLPModel, self).__init__()\n",
    "        self.main = nn.Sequential(nn.Linear(28*28, hidden_dim),\n",
    "                                 nn.ReLU(),\n",
    "                                 nn.Linear(hidden_dim, 10))\n",
    "    \n",
    "    def forward(self, x):\n",
    "        out = x.view(x.size(0), -1)\n",
    "        out = self.main(out)\n",
    "        return out"
   ]
  },
  {
   "cell_type": "code",
   "execution_count": 452,
   "metadata": {},
   "outputs": [],
   "source": [
    "model = MLPModel()\n",
    "loss_fn = nn.CrossEntropyLoss()\n",
    "optimizer = torch.optim.SGD(model.parameters(), lr=learning_rate)"
   ]
  },
  {
   "cell_type": "code",
   "execution_count": 453,
   "metadata": {},
   "outputs": [],
   "source": [
    "def train():\n",
    "    model.train()\n",
    "    train_loss = 0\n",
    "    for iteration, (images, labels) in enumerate(train_loader):\n",
    "        output = model(images)\n",
    "        optimizer.zero_grad()\n",
    "        loss = loss_fn(output, labels)\n",
    "        train_loss += loss.item()\n",
    "        loss.backward()\n",
    "        optimizer.step()\n",
    "    average_loss = train_loss / len(train_loader)\n",
    "    return average_loss\n",
    "\n",
    "def validation():\n",
    "    model.eval()\n",
    "    val_loss = 0\n",
    "    n_correct = 0\n",
    "    with torch.no_grad():\n",
    "        for images, labels in val_loader:\n",
    "            output = model(images)\n",
    "            loss = loss_fn(output, labels)\n",
    "            val_loss += loss.item()\n",
    "            n_correct += torch.sum(output.argmax(1) == labels).item()\n",
    "            \n",
    "    accuracy = 100.0 * n_correct / len(val_loader.dataset)\n",
    "    average_loss = val_loss / len(val_loader)\n",
    "    return val_loss, accuracy\n",
    "\n",
    "def test():\n",
    "    model.eval()\n",
    "    test_loss = 0\n",
    "    n_correct = 0\n",
    "    with torch.no_grad():\n",
    "        for images, labels in test_loader:\n",
    "            output = model(images)\n",
    "            loss = loss_fn(output, labels)\n",
    "            test_loss += loss.item()\n",
    "            n_correct += torch.sum(output.argmax(1) == labels).item()\n",
    "            \n",
    "    accuracy = 100.0 * n_correct / len(test_loader.dataset)\n",
    "    average_loss = test_loss / len(test_loader)\n",
    "    return test_loss, accuracy"
   ]
  },
  {
   "cell_type": "code",
   "execution_count": 454,
   "metadata": {},
   "outputs": [
    {
     "name": "stdout",
     "output_type": "stream",
     "text": [
      "Epoch 1, Training loss: 2.3841, Validation loss: 16.4871, Validation accuracy: 95.4%\n",
      "Epoch 2, Training loss: 0.1138, Validation loss: 15.2792, Validation accuracy: 95.7%\n",
      "Epoch 3, Training loss: 0.0692, Validation loss: 12.2164, Validation accuracy: 97.0%\n",
      "Epoch 4, Training loss: 0.0434, Validation loss: 12.6978, Validation accuracy: 97.2%\n",
      "Epoch 5, Training loss: 0.0308, Validation loss: 13.6371, Validation accuracy: 97.2%\n",
      "Epoch 6, Training loss: 0.0232, Validation loss: 13.9254, Validation accuracy: 97.3%\n",
      "Epoch 7, Training loss: 0.0144, Validation loss: 11.4622, Validation accuracy: 97.7%\n",
      "Epoch 8, Training loss: 0.0096, Validation loss: 13.3391, Validation accuracy: 97.5%\n",
      "Epoch 9, Training loss: 0.0051, Validation loss: 11.7425, Validation accuracy: 97.7%\n",
      "Epoch 10, Training loss: 0.0034, Validation loss: 12.3378, Validation accuracy: 97.8%\n"
     ]
    }
   ],
   "source": [
    "train_losses = []\n",
    "val_losses = []\n",
    "val_accuracy = []\n",
    "for epoch in range(n_epochs):\n",
    "    train_loss = train()\n",
    "    train_losses.append(train_loss)\n",
    "    val_loss, accuracy = validation()\n",
    "    val_losses.append(val_loss)\n",
    "    val_accuracy.append(accuracy)\n",
    "    print('Epoch {}, Training loss: {:.4f}, Validation loss: {:.4f}, Validation accuracy: {:.1f}%'.format(epoch+1, train_loss, val_loss, accuracy))"
   ]
  },
  {
   "cell_type": "code",
   "execution_count": 455,
   "metadata": {},
   "outputs": [
    {
     "data": {
      "text/plain": [
       "<matplotlib.legend.Legend at 0x20607c13ef0>"
      ]
     },
     "execution_count": 455,
     "metadata": {},
     "output_type": "execute_result"
    },
    {
     "data": {
      "image/png": "[encoded data removed]",
      "text/plain": [
       "<Figure size 432x288 with 1 Axes>"
      ]
     },
     "metadata": {
      "needs_background": "light"
     },
     "output_type": "display_data"
    }
   ],
   "source": [
    "plt.figure()\n",
    "plt.xlabel('epoch')\n",
    "plt.ylabel('loss')\n",
    "plt.title('Losses')\n",
    "plt.plot(np.arange(1, n_epochs+1), train_losses)\n",
    "plt.plot(np.arange(1, n_epochs+1), val_losses)\n",
    "plt.legend(['training', 'validation'])"
   ]
  },
  {
   "cell_type": "code",
   "execution_count": 456,
   "metadata": {},
   "outputs": [
    {
     "name": "stdout",
     "output_type": "stream",
     "text": [
      "Test loss: 19.0325, accuracy: 97.9%\n"
     ]
    }
   ],
   "source": [
    "test_loss, accuracy = test()\n",
    "print('Test loss: {:.4f}, accuracy: {:.1f}%'.format(test_loss, accuracy))"
   ]
  }
 ],
 "metadata": {
  "kernelspec": {
   "display_name": "Python 3",
   "language": "python",
   "name": "python3"
  },
  "language_info": {
   "codemirror_mode": {
    "name": "ipython",
    "version": 3
   },
   "file_extension": ".py",
   "mimetype": "text/x-python",
   "name": "python",
   "nbconvert_exporter": "python",
   "pygments_lexer": "ipython3",
   "version": "3.7.1"
  }
 },
 "nbformat": 4,
 "nbformat_minor": 2
}
